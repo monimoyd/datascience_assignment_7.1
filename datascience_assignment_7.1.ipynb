{
 "cells": [
  {
   "cell_type": "markdown",
   "metadata": {},
   "source": [
    "## Function to find moving average in an array over a window\n",
    "\n",
    "## Solution:\n",
    "\n",
    "### Steps:\n",
    "* Write a method moving_average which takes input as array input_array and size of window as window_size\n",
    "* Calculate cumulative sum and assign to cumulative_array\n",
    "* Take subarray from window places from beginning of cu_array and another subarray window places before end of cu_array  and subtract them\n",
    "* Assign the subtracted value to subarray from window places from beginning of cumulative_array\n",
    "* Divide the subarray of cumulative_array from window-1 places from beginning of cumulative_array  \n",
    "   by window_size and return the result"
   ]
  },
  {
   "cell_type": "code",
   "execution_count": 9,
   "metadata": {},
   "outputs": [],
   "source": [
    "import numpy as np\n",
    "\n",
    "# function moving_average which takes input as array input_array and size of window as window_size\n",
    "# and return moving moving average of input_array with window of window_size\n",
    "def moving_average(input_array, window_size) :\n",
    "    \n",
    "    # Calculate cumulative sum for input_array\n",
    "    cumulative_array = np.cumsum(input_array, dtype=float)\n",
    "    \n",
    "    # Take subarray from window places from beginning of cu_array and another subarray window places\n",
    "    # before end of cu_array and subtract them\n",
    "    # Assign the subtracted value to subarray from window places from beginning of cumulative_array\n",
    "    cumulative_array[window_size: ] = cumulative_array[window_size: ] - cumulative_array[: -window_size]\n",
    "    \n",
    "    # Divide the subarray of cumulative_array from window-1 places from beginning of cumulative_array  \n",
    "    # by window_size and return the result\n",
    "    return cumulative_array[window_size - 1: ]/window_size"
   ]
  },
  {
   "cell_type": "code",
   "execution_count": 10,
   "metadata": {},
   "outputs": [
    {
     "name": "stdout",
     "output_type": "stream",
     "text": [
      "[ 5.          4.66666667  5.66666667  6.66666667  9.66666667 28.66666667\n",
      " 49.33333333 72.66666667 84.         93.33333333 71.33333333]\n"
     ]
    }
   ],
   "source": [
    "input_array = np.array([3, 5, 7, 2, 8, 10, 11, 65, 72, 81, 99, 100, 15])\n",
    "ma = moving_average(input_array, 3)\n",
    "print(ma)"
   ]
  },
  {
   "cell_type": "code",
   "execution_count": null,
   "metadata": {},
   "outputs": [],
   "source": []
  }
 ],
 "metadata": {
  "kernelspec": {
   "display_name": "Python 3",
   "language": "python",
   "name": "python3"
  },
  "language_info": {
   "codemirror_mode": {
    "name": "ipython",
    "version": 3
   },
   "file_extension": ".py",
   "mimetype": "text/x-python",
   "name": "python",
   "nbconvert_exporter": "python",
   "pygments_lexer": "ipython3",
   "version": "3.6.4"
  }
 },
 "nbformat": 4,
 "nbformat_minor": 2
}
